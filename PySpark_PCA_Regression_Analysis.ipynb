{
  "nbformat": 4,
  "nbformat_minor": 0,
  "metadata": {
    "colab": {
      "name": "PySpark_PCA_Regression_Analysis.ipynb",
      "provenance": [],
      "collapsed_sections": [],
      "authorship_tag": "ABX9TyMKo0jCV1NtSVj5htyB0LZy",
      "include_colab_link": true
    },
    "kernelspec": {
      "name": "python3",
      "display_name": "Python 3"
    }
  },
  "cells": [
    {
      "cell_type": "markdown",
      "metadata": {
        "id": "view-in-github",
        "colab_type": "text"
      },
      "source": [
        "<a href=\"https://colab.research.google.com/github/JBobrutsky/pyspark-ML-in-Colab/blob/master/PySpark_PCA_Regression_Analysis.ipynb\" target=\"_parent\"><img src=\"https://colab.research.google.com/assets/colab-badge.svg\" alt=\"Open In Colab\"/></a>"
      ]
    },
    {
      "cell_type": "markdown",
      "metadata": {
        "id": "pf6Jj71iw8Kl",
        "colab_type": "text"
      },
      "source": [
        "## Install Spark"
      ]
    },
    {
      "cell_type": "code",
      "metadata": {
        "id": "4X19uNsLFeRv",
        "colab_type": "code",
        "colab": {}
      },
      "source": [
        "!apt-get install openjdk-8-jdk-headless -qq > /dev/null\n",
        "!wget -q https://www-us.apache.org/dist/spark/spark-2.4.5/spark-2.4.5-bin-hadoop2.7.tgz\n",
        "!tar xf spark-2.4.5-bin-hadoop2.7.tgz\n",
        "!pip install -q findspark"
      ],
      "execution_count": 0,
      "outputs": []
    },
    {
      "cell_type": "code",
      "metadata": {
        "id": "YDNne6-LGFU3",
        "colab_type": "code",
        "colab": {}
      },
      "source": [
        "import os\n",
        "os.environ[\"JAVA_HOME\"] = \"/usr/lib/jvm/java-8-openjdk-amd64\"\n",
        "os.environ[\"SPARK_HOME\"] = \"/content/spark-2.4.5-bin-hadoop2.7\""
      ],
      "execution_count": 0,
      "outputs": []
    },
    {
      "cell_type": "code",
      "metadata": {
        "id": "OjGzuiReJxSt",
        "colab_type": "code",
        "colab": {}
      },
      "source": [
        "import findspark\n",
        "findspark.init()\n",
        "from pyspark.sql import SparkSession\n",
        "spark = SparkSession.builder.master(\"local[*]\").getOrCreate()"
      ],
      "execution_count": 0,
      "outputs": []
    },
    {
      "cell_type": "markdown",
      "metadata": {
        "id": "rt_IndKbxLfo",
        "colab_type": "text"
      },
      "source": [
        "## Load and Organize Data"
      ]
    },
    {
      "cell_type": "code",
      "metadata": {
        "id": "x4IGVUkNMXaT",
        "colab_type": "code",
        "colab": {}
      },
      "source": [
        "from google.colab import files\n",
        "files.upload()"
      ],
      "execution_count": 0,
      "outputs": []
    },
    {
      "cell_type": "code",
      "metadata": {
        "id": "ke9pspUKN6B5",
        "colab_type": "code",
        "outputId": "724ea40c-0f5d-4754-dbec-9288129c5396",
        "colab": {
          "base_uri": "https://localhost:8080/",
          "height": 756
        }
      },
      "source": [
        "dataset = spark.read.csv('BostonHousing.csv',inferSchema=True, header =True)\n",
        "\n",
        "dataset.show()\n",
        "\n",
        "dataset.printSchema()"
      ],
      "execution_count": 0,
      "outputs": [
        {
          "output_type": "stream",
          "text": [
            "+-------+----+-----+----+-----+-----+-----+------+---+---+-------+------+-----+----+\n",
            "|   crim|  zn|indus|chas|  nox|   rm|  age|   dis|rad|tax|ptratio|     b|lstat|medv|\n",
            "+-------+----+-----+----+-----+-----+-----+------+---+---+-------+------+-----+----+\n",
            "|0.00632|18.0| 2.31|   0|0.538|6.575| 65.2|  4.09|  1|296|   15.3| 396.9| 4.98|24.0|\n",
            "|0.02731| 0.0| 7.07|   0|0.469|6.421| 78.9|4.9671|  2|242|   17.8| 396.9| 9.14|21.6|\n",
            "|0.02729| 0.0| 7.07|   0|0.469|7.185| 61.1|4.9671|  2|242|   17.8|392.83| 4.03|34.7|\n",
            "|0.03237| 0.0| 2.18|   0|0.458|6.998| 45.8|6.0622|  3|222|   18.7|394.63| 2.94|33.4|\n",
            "|0.06905| 0.0| 2.18|   0|0.458|7.147| 54.2|6.0622|  3|222|   18.7| 396.9| 5.33|36.2|\n",
            "|0.02985| 0.0| 2.18|   0|0.458| 6.43| 58.7|6.0622|  3|222|   18.7|394.12| 5.21|28.7|\n",
            "|0.08829|12.5| 7.87|   0|0.524|6.012| 66.6|5.5605|  5|311|   15.2| 395.6|12.43|22.9|\n",
            "|0.14455|12.5| 7.87|   0|0.524|6.172| 96.1|5.9505|  5|311|   15.2| 396.9|19.15|27.1|\n",
            "|0.21124|12.5| 7.87|   0|0.524|5.631|100.0|6.0821|  5|311|   15.2|386.63|29.93|16.5|\n",
            "|0.17004|12.5| 7.87|   0|0.524|6.004| 85.9|6.5921|  5|311|   15.2|386.71| 17.1|18.9|\n",
            "|0.22489|12.5| 7.87|   0|0.524|6.377| 94.3|6.3467|  5|311|   15.2|392.52|20.45|15.0|\n",
            "|0.11747|12.5| 7.87|   0|0.524|6.009| 82.9|6.2267|  5|311|   15.2| 396.9|13.27|18.9|\n",
            "|0.09378|12.5| 7.87|   0|0.524|5.889| 39.0|5.4509|  5|311|   15.2| 390.5|15.71|21.7|\n",
            "|0.62976| 0.0| 8.14|   0|0.538|5.949| 61.8|4.7075|  4|307|   21.0| 396.9| 8.26|20.4|\n",
            "|0.63796| 0.0| 8.14|   0|0.538|6.096| 84.5|4.4619|  4|307|   21.0|380.02|10.26|18.2|\n",
            "|0.62739| 0.0| 8.14|   0|0.538|5.834| 56.5|4.4986|  4|307|   21.0|395.62| 8.47|19.9|\n",
            "|1.05393| 0.0| 8.14|   0|0.538|5.935| 29.3|4.4986|  4|307|   21.0|386.85| 6.58|23.1|\n",
            "| 0.7842| 0.0| 8.14|   0|0.538| 5.99| 81.7|4.2579|  4|307|   21.0|386.75|14.67|17.5|\n",
            "|0.80271| 0.0| 8.14|   0|0.538|5.456| 36.6|3.7965|  4|307|   21.0|288.99|11.69|20.2|\n",
            "| 0.7258| 0.0| 8.14|   0|0.538|5.727| 69.5|3.7965|  4|307|   21.0|390.95|11.28|18.2|\n",
            "+-------+----+-----+----+-----+-----+-----+------+---+---+-------+------+-----+----+\n",
            "only showing top 20 rows\n",
            "\n",
            "root\n",
            " |-- crim: double (nullable = true)\n",
            " |-- zn: double (nullable = true)\n",
            " |-- indus: double (nullable = true)\n",
            " |-- chas: integer (nullable = true)\n",
            " |-- nox: double (nullable = true)\n",
            " |-- rm: double (nullable = true)\n",
            " |-- age: double (nullable = true)\n",
            " |-- dis: double (nullable = true)\n",
            " |-- rad: integer (nullable = true)\n",
            " |-- tax: integer (nullable = true)\n",
            " |-- ptratio: double (nullable = true)\n",
            " |-- b: double (nullable = true)\n",
            " |-- lstat: double (nullable = true)\n",
            " |-- medv: double (nullable = true)\n",
            "\n"
          ],
          "name": "stdout"
        }
      ]
    },
    {
      "cell_type": "code",
      "metadata": {
        "id": "r5X6vYjYOfYS",
        "colab_type": "code",
        "outputId": "d23a2eab-a297-49e8-cd2f-9c321f773699",
        "colab": {
          "base_uri": "https://localhost:8080/",
          "height": 474
        }
      },
      "source": [
        "from pyspark.ml.feature import VectorAssembler\n",
        "\n",
        "#Input all the features in one vector column\n",
        "assembler = VectorAssembler(inputCols=['crim', 'zn', 'indus', 'chas', 'nox', 'rm', 'age', 'dis', 'rad', 'tax', 'ptratio', 'b', 'lstat'], outputCol = 'Attributes')\n",
        "output = assembler.transform(dataset)\n",
        "\n",
        "#Input vs Output\n",
        "finalized_data = output.select(\"Attributes\",\"medv\")\n",
        "finalized_data.show()\n",
        "\n",
        "#Split training and testing data\n",
        "train_data,test_data = finalized_data.randomSplit([0.8,0.2])"
      ],
      "execution_count": 0,
      "outputs": [
        {
          "output_type": "stream",
          "text": [
            "+--------------------+----+\n",
            "|          Attributes|medv|\n",
            "+--------------------+----+\n",
            "|[0.00632,18.0,2.3...|24.0|\n",
            "|[0.02731,0.0,7.07...|21.6|\n",
            "|[0.02729,0.0,7.07...|34.7|\n",
            "|[0.03237,0.0,2.18...|33.4|\n",
            "|[0.06905,0.0,2.18...|36.2|\n",
            "|[0.02985,0.0,2.18...|28.7|\n",
            "|[0.08829,12.5,7.8...|22.9|\n",
            "|[0.14455,12.5,7.8...|27.1|\n",
            "|[0.21124,12.5,7.8...|16.5|\n",
            "|[0.17004,12.5,7.8...|18.9|\n",
            "|[0.22489,12.5,7.8...|15.0|\n",
            "|[0.11747,12.5,7.8...|18.9|\n",
            "|[0.09378,12.5,7.8...|21.7|\n",
            "|[0.62976,0.0,8.14...|20.4|\n",
            "|[0.63796,0.0,8.14...|18.2|\n",
            "|[0.62739,0.0,8.14...|19.9|\n",
            "|[1.05393,0.0,8.14...|23.1|\n",
            "|[0.7842,0.0,8.14,...|17.5|\n",
            "|[0.80271,0.0,8.14...|20.2|\n",
            "|[0.7258,0.0,8.14,...|18.2|\n",
            "+--------------------+----+\n",
            "only showing top 20 rows\n",
            "\n"
          ],
          "name": "stdout"
        }
      ]
    },
    {
      "cell_type": "markdown",
      "metadata": {
        "id": "NCWKOoAUxX5P",
        "colab_type": "text"
      },
      "source": [
        "## Linear Regression"
      ]
    },
    {
      "cell_type": "code",
      "metadata": {
        "id": "R-C17fZoPc8p",
        "colab_type": "code",
        "outputId": "bb75d199-4a86-4e59-e046-a47fc70ad927",
        "colab": {
          "base_uri": "https://localhost:8080/",
          "height": 474
        }
      },
      "source": [
        "from pyspark.ml.regression import LinearRegression\n",
        "\n",
        "regressor = LinearRegression(featuresCol = 'Attributes', labelCol = 'medv')\n",
        "#Learn to fit the model from training set\n",
        "regressor = regressor.fit(train_data)\n",
        "#To predict the prices on testing set\n",
        "pred = regressor.evaluate(test_data)\n",
        "#Predict the model\n",
        "pred.predictions.show()"
      ],
      "execution_count": 0,
      "outputs": [
        {
          "output_type": "stream",
          "text": [
            "+--------------------+----+------------------+\n",
            "|          Attributes|medv|        prediction|\n",
            "+--------------------+----+------------------+\n",
            "|[0.01778,95.0,1.4...|32.9|30.859829886607418|\n",
            "|[0.0187,85.0,4.15...|23.1|25.729672608033585|\n",
            "|[0.02498,0.0,1.89...|16.5| 21.91729418444487|\n",
            "|[0.02899,40.0,1.2...|26.6| 22.12654263143647|\n",
            "|[0.02985,0.0,2.18...|28.7|25.131048902410726|\n",
            "|[0.03427,0.0,5.19...|19.5|19.881479595545645|\n",
            "|[0.03584,80.0,3.3...|23.5| 30.66120330591262|\n",
            "|[0.03768,80.0,1.5...|34.6|35.413377869114875|\n",
            "|[0.04011,80.0,1.5...|33.3|36.747906202018605|\n",
            "|[0.04417,70.0,2.2...|24.8|31.466869254658658|\n",
            "|[0.0459,52.5,5.32...|22.3| 27.79818359238362|\n",
            "|[0.05372,0.0,13.9...|27.1|27.667564807272303|\n",
            "|[0.05602,0.0,2.46...|50.0|  35.3638504646294|\n",
            "|[0.0578,0.0,2.46,...|37.2| 32.46005549730855|\n",
            "|[0.06162,0.0,4.39...|17.2|14.973894127106412|\n",
            "|[0.06263,0.0,11.9...|22.4| 22.93502027220878|\n",
            "|[0.0686,0.0,2.89,...|33.2|31.843105648627095|\n",
            "|[0.06911,45.0,3.4...|30.5| 30.44960375135788|\n",
            "|[0.07013,0.0,13.8...|28.7|28.535275349737898|\n",
            "|[0.07165,0.0,25.6...|20.3|22.641580261252486|\n",
            "+--------------------+----+------------------+\n",
            "only showing top 20 rows\n",
            "\n"
          ],
          "name": "stdout"
        }
      ]
    },
    {
      "cell_type": "code",
      "metadata": {
        "id": "Y9dkw-x4QplO",
        "colab_type": "code",
        "outputId": "e69fb466-67ca-4cf3-f047-89e4dcfcc930",
        "colab": {
          "base_uri": "https://localhost:8080/",
          "height": 72
        }
      },
      "source": [
        "#coefficient of the regression model\n",
        "coeff = regressor.coefficients\n",
        "#X and Y intercept\n",
        "intr = regressor.intercept\n",
        "print (\"The coefficient of the model is : %a\" %coeff)\n",
        "print (\"The Intercept of the model is : %f\" %intr)"
      ],
      "execution_count": 0,
      "outputs": [
        {
          "output_type": "stream",
          "text": [
            "The coefficient of the model is : DenseVector([-0.1147, 0.0521, 0.042, 2.1887, -19.2016, 3.7468, 0.0087, -1.3656, 0.3327, -0.0132, -1.0335, 0.0084, -0.5051])\n",
            "The Intercept of the model is : 38.103696\n"
          ],
          "name": "stdout"
        }
      ]
    },
    {
      "cell_type": "code",
      "metadata": {
        "id": "N6SuQ1EfQ0ov",
        "colab_type": "code",
        "outputId": "38a2d8a6-d472-4622-ef8a-19aa0c3a354d",
        "colab": {
          "base_uri": "https://localhost:8080/",
          "height": 87
        }
      },
      "source": [
        "from pyspark.ml.evaluation import RegressionEvaluator\n",
        "reval = RegressionEvaluator(labelCol=\"medv\", predictionCol=\"prediction\", metricName=\"rmse\")\n",
        "# Root Mean Square Error\n",
        "rmse = reval.evaluate(pred.predictions)\n",
        "print(\"RMSE: %.3f\" % rmse)\n",
        "# Mean Square Error\n",
        "mse = reval.evaluate(pred.predictions, {reval.metricName: \"mse\"})\n",
        "print(\"MSE: %.3f\" % mse)\n",
        "# Mean Absolute Error\n",
        "mae = reval.evaluate(pred.predictions, {reval.metricName: \"mae\"})\n",
        "print(\"MAE: %.3f\" % mae)\n",
        "# r2 - coefficient of determination\n",
        "r2 = reval.evaluate(pred.predictions, {reval.metricName: \"r2\"})\n",
        "print(\"r2: %.3f\" %r2)"
      ],
      "execution_count": 0,
      "outputs": [
        {
          "output_type": "stream",
          "text": [
            "RMSE: 5.504\n",
            "MSE: 30.298\n",
            "MAE: 3.512\n",
            "r2: 0.629\n"
          ],
          "name": "stdout"
        }
      ]
    },
    {
      "cell_type": "markdown",
      "metadata": {
        "id": "VsmK57pvwplW",
        "colab_type": "text"
      },
      "source": [
        "## PCA"
      ]
    },
    {
      "cell_type": "code",
      "metadata": {
        "id": "Ca5x0OFN03Bz",
        "colab_type": "code",
        "outputId": "ff15fd66-b0c8-4ccf-d374-64d76f326332",
        "colab": {
          "base_uri": "https://localhost:8080/",
          "height": 494
        }
      },
      "source": [
        "from pyspark.ml.feature import PCA\n",
        "from pyspark.ml.linalg import Vectors\n",
        "\n",
        "FEATURE_NUM = 10\n",
        "pca = PCA(k=FEATURE_NUM, inputCol=\"Attributes\", outputCol=\"pcaFeatures\")\n",
        "model = pca.fit(finalized_data)\n",
        "\n",
        "result = model.transform(finalized_data).select(\"pcaFeatures\")\n",
        "result.show(truncate=False)"
      ],
      "execution_count": 0,
      "outputs": [
        {
          "output_type": "stream",
          "text": [
            "+--------------------------------------------------------------------------------------------------------------------------------------------------------------------------------------------------+\n",
            "|pcaFeatures                                                                                                                                                                                       |\n",
            "+--------------------------------------------------------------------------------------------------------------------------------------------------------------------------------------------------+\n",
            "|[-170.48334946511406,466.4384020319935,20.078098061799402,50.75554287623922,-4.604172476281945,0.25409369238824464,-2.6753499433893433,-10.202479732479079,-15.550371374788469,1.2561467094913883]|\n",
            "|[-121.41203669936277,450.7621375378928,47.68729219561534,46.76072566080398,-2.415764243841794,3.324343052394645,-2.271392148019748,-5.640134387359168,-17.953554732923944,2.885110662438193]      |\n",
            "|[-120.99048471582843,446.7978138756289,33.65903362728322,35.18555087637617,-2.8788530017161538,0.6560960663676898,0.07601164477166011,-5.234534361018454,-17.900834900931827,2.4959467071066186]  |\n",
            "|[-100.07154991900181,442.5758828738239,23.439600791075318,25.8190289786975,-1.2720022430665483,-0.3937607731670085,-3.6141234071706276,-5.570454909020548,-18.549355637781773,2.5497246921609866] |\n",
            "|[-100.16874115628491,444.7803987428149,30.06392551637743,31.2858090653454,-1.0244388038616958,0.8051771362148079,-4.702391257999549,-5.757350788799222,-18.548753720508174,2.708479044092354]     |\n",
            "|[-101.35161562058168,442.14918362045637,33.39160897473632,34.12873826094227,-1.3362917377221881,0.24862806700494922,-4.787821958363335,-5.848855523721835,-18.705001328225972,2.8643117478122937] |\n",
            "|[-185.9661956215183,469.61385544198174,24.286195582317355,47.31156920974688,-2.944095303219289,7.507955565687454,-3.0584825440896477,-5.325751432164596,-15.032314632206633,3.4613095380263155]   |\n",
            "|[-188.20788381191778,470.98637572051086,47.22093164665687,66.40460805462332,-2.6506021181517943,10.235192388109189,-6.313805864491016,-5.994085180674677,-15.277249500941231,4.449596333491408]   |\n",
            "|[-191.77392078179986,461.12625528248145,50.92494342480178,69.3332833831602,-0.3879447969794123,19.347975842809834,-10.343949235446447,-6.315647101113563,-14.61769108036794,4.466509803086899]    |\n",
            "|[-190.27203718475477,461.1960140442279,39.05287404025134,59.778590505440704,-2.8139519419363275,9.484241160307661,-5.336165973488915,-5.856009993312275,-15.37089207103577,4.857219680535607]     |\n",
            "|[-189.36222141253225,466.7797562541134,45.859943995294906,65.30428454606178,-2.2632933207476604,11.535093669092817,-6.752092590024228,-6.03235422670007,-15.223097220555754,4.746763830112173]    |\n",
            "|[-186.96659829437655,470.9448928022055,36.685686609747066,57.73407682851115,-3.454715474644376,6.4777420850235625,-3.849544002995717,-5.671543575297648,-15.493376123845021,4.510899871509611]    |\n",
            "|[-185.21940133748467,464.5605252843096,3.614284537869608,29.868320555482264,-0.9699555745387305,13.417703008590122,-3.513580847313939,-4.910106520027926,-14.131885041557057,2.569323290576996]   |\n",
            "|[-181.8530695854982,469.70264173046917,28.72466913381104,34.39397570810518,-3.0226619253051332,4.213276967811002,-1.4357272687823777,-6.002455254072012,-20.4543364399017,1.6579210153871111]     |\n",
            "|[-188.7148870526464,453.6806580362648,45.68115902982747,48.86786955370684,-3.880799500933126,3.391994914343334,-2.717660404963286,-6.47363287590913,-20.79612987226309,1.9603666960362505]        |\n",
            "|[-181.78882507592803,468.44732219095533,24.717865587983024,31.023037170951508,-2.748749975358651,4.979445411657588,-1.3540373336255733,-5.904575114479059,-20.27688155534957,1.3193397689034767]  |\n",
            "|[-182.03699373143658,459.9139863614296,3.7807073365232715,13.598415528599187,-1.6803718353558799,6.147196207336339,0.15721260895441436,-5.469366278211158,-19.80858723964121,0.6542180534341354]  |\n",
            "|[-186.62773956889063,460.0734326177346,44.1440936543123,47.31513035028891,-2.4521823111027135,7.63465158150731,-4.214994672778445,-6.490289045379734,-20.341334263580933,1.600271513694346]       |\n",
            "|[-211.26120965762445,366.3565600063134,7.498068386215206,18.07071291428253,-2.7040015843249874,9.383726268437112,-1.7716708096952014,-5.92222805607758,-19.634708185761376,0.07142144781701637]   |\n",
            "|[-184.30813795673942,464.0397764663003,34.728201545854446,39.40763299839405,-2.6662246228313125,6.010236105866349,-2.6340312483720747,-6.16713241066892,-20.220574992274134,0.9251665307161043]   |\n",
            "+--------------------------------------------------------------------------------------------------------------------------------------------------------------------------------------------------+\n",
            "only showing top 20 rows\n",
            "\n"
          ],
          "name": "stdout"
        }
      ]
    },
    {
      "cell_type": "markdown",
      "metadata": {
        "id": "8cb4aBQK9BXd",
        "colab_type": "text"
      },
      "source": [
        "### Join the new feature vector with the original data"
      ]
    },
    {
      "cell_type": "code",
      "metadata": {
        "id": "EdZH8Pp94EVM",
        "colab_type": "code",
        "colab": {}
      },
      "source": [
        "from pyspark.sql.types import StructType, StructField, LongType\n",
        "\n",
        "def with_column_index(sdf): \n",
        "    new_schema = StructType(sdf.schema.fields + [StructField(\"ColumnIndex\", LongType(), False),])\n",
        "    return sdf.rdd.zipWithIndex().map(lambda row: row[0] + (row[1],)).toDF(schema=new_schema)\n"
      ],
      "execution_count": 0,
      "outputs": []
    },
    {
      "cell_type": "code",
      "metadata": {
        "id": "8pCqtmaX51Fe",
        "colab_type": "code",
        "outputId": "ed370967-e3ed-48ff-d598-3ba56fdaa784",
        "colab": {
          "base_uri": "https://localhost:8080/",
          "height": 474
        }
      },
      "source": [
        "df1_ci = with_column_index(finalized_data)\n",
        "df2_ci = with_column_index(result)\n",
        "\n",
        "finalized_data_pca = df1_ci.join(df2_ci, df1_ci.ColumnIndex == df2_ci.ColumnIndex, 'inner').drop(\"ColumnIndex\")\n",
        "finalized_data_pca.show()"
      ],
      "execution_count": 0,
      "outputs": [
        {
          "output_type": "stream",
          "text": [
            "+--------------------+----+--------------------+\n",
            "|          Attributes|medv|         pcaFeatures|\n",
            "+--------------------+----+--------------------+\n",
            "|[0.67191,0.0,8.14...|16.6|[-190.21866129551...|\n",
            "|[1.00245,0.0,8.14...|21.0|[-188.93883375276...|\n",
            "|[8.05579,0.0,18.1...|13.8|[-540.16466466912...|\n",
            "|[0.03584,80.0,3.3...|23.5|[-202.90294258659...|\n",
            "|[0.06911,45.0,3.4...|30.5|[-265.58763370271...|\n",
            "|[73.5341,0.0,18.1...| 8.8|[-640.41543598763...|\n",
            "|[0.62356,0.0,6.2,...|27.5|[-185.22997145593...|\n",
            "|[0.29916,20.0,6.9...|21.1|[-101.96707923547...|\n",
            "|[0.08265,0.0,13.9...|23.9|[-161.24962550251...|\n",
            "|[0.12757,30.0,4.9...|23.7|[-175.71654852674...|\n",
            "|[0.07978,40.0,6.4...|29.1|[-127.18362140013...|\n",
            "|[13.5222,0.0,18.1...|23.1|[-605.01293880659...|\n",
            "|[5.66637,0.0,18.1...|18.4|[-527.89131680193...|\n",
            "|[0.7258,0.0,8.14,...|18.2|[-184.30813795673...|\n",
            "|[0.0136,75.0,4.0,...|18.9|[-331.20744297629...|\n",
            "|[0.05372,0.0,13.9...|27.1|[-165.12386860461...|\n",
            "|[0.00632,18.0,2.3...|24.0|[-170.48334946511...|\n",
            "|[0.06127,40.0,6.4...|33.1|[-127.73671525517...|\n",
            "|[0.03871,52.5,5.3...|23.2|[-163.64238149438...|\n",
            "|[0.01501,80.0,2.0...|24.5|[-151.48302845679...|\n",
            "+--------------------+----+--------------------+\n",
            "only showing top 20 rows\n",
            "\n"
          ],
          "name": "stdout"
        }
      ]
    },
    {
      "cell_type": "markdown",
      "metadata": {
        "id": "kx3sLCKM9SjB",
        "colab_type": "text"
      },
      "source": [
        "### Retrain the Linear Regression"
      ]
    },
    {
      "cell_type": "code",
      "metadata": {
        "id": "e3hrDZFi9eQz",
        "colab_type": "code",
        "outputId": "8fc791d0-1e1b-4622-eada-efd5bef0a3d3",
        "colab": {
          "base_uri": "https://localhost:8080/",
          "height": 474
        }
      },
      "source": [
        "# from pyspark.ml.regression import LinearRegression\n",
        "\n",
        "#Split training and testing data\n",
        "train_data,test_data = finalized_data_pca.randomSplit([0.8,0.2])\n",
        "\n",
        "regressor = LinearRegression(featuresCol = 'pcaFeatures', labelCol = 'medv')\n",
        "#Learn to fit the model from training set\n",
        "regressor = regressor.fit(train_data)\n",
        "#To predict the prices on testing set\n",
        "pred_pca = regressor.evaluate(test_data)\n",
        "#Predict the model\n",
        "pred_pca.predictions.show()"
      ],
      "execution_count": 0,
      "outputs": [
        {
          "output_type": "stream",
          "text": [
            "+--------------------+----+--------------------+------------------+\n",
            "|          Attributes|medv|         pcaFeatures|        prediction|\n",
            "+--------------------+----+--------------------+------------------+\n",
            "|[13.5222,0.0,18.1...|23.1|[-605.01293880659...|19.832507690301853|\n",
            "|[0.00632,18.0,2.3...|24.0|[-170.48334946511...| 32.31148176654435|\n",
            "|[0.22212,0.0,10.0...|18.7|[-303.71052712947...| 19.93380566568665|\n",
            "|[0.34006,0.0,21.8...|19.2|[-309.46208298914...| 18.77910735222654|\n",
            "|[0.14455,12.5,7.8...|27.1|[-188.20788381191...| 18.50751917513194|\n",
            "|[9.91655,0.0,18.1...| 6.3|[-543.22367108108...| 9.106035085990989|\n",
            "|[0.38735,0.0,25.6...|15.7|[-83.457430173030...|12.633149049504695|\n",
            "|[0.04294,28.0,15....|20.6|[-147.01130615636...| 26.69886316420293|\n",
            "|[7.02259,0.0,18.1...|14.2|[-549.56679995829...|19.873155229946406|\n",
            "|[0.15936,0.0,6.91...|24.7|[-107.52105567350...|25.082230466216316|\n",
            "|[0.21719,0.0,10.5...|22.4|[-154.65659173946...|20.082507492671688|\n",
            "|[0.5405,20.0,3.97...|43.5|[-141.06773850939...|39.769572898377234|\n",
            "|[28.6558,0.0,18.1...|16.3|[-582.44270614026...|13.711971447658556|\n",
            "|[0.13554,12.5,6.0...|17.4|[-215.32206211046...| 17.95722970632341|\n",
            "|[0.09164,0.0,10.8...|22.8|[-177.16471003302...| 24.62810849818012|\n",
            "|[0.03548,80.0,3.6...|20.9|[-182.58100266696...|24.137517850556478|\n",
            "|[0.1676,0.0,7.38,...|23.8|[-162.04201991844...| 25.33684687444833|\n",
            "|[7.67202,0.0,18.1...| 8.5|[-528.69170466006...|17.365635206880697|\n",
            "|[0.01301,35.0,1.5...|32.7|[-157.61515848944...|28.883319904389527|\n",
            "|[0.09252,30.0,4.9...|23.3|[-176.00648095698...|28.165513590068453|\n",
            "+--------------------+----+--------------------+------------------+\n",
            "only showing top 20 rows\n",
            "\n"
          ],
          "name": "stdout"
        }
      ]
    },
    {
      "cell_type": "code",
      "metadata": {
        "id": "OftBAf9_-cZL",
        "colab_type": "code",
        "outputId": "9210d376-8d41-46cd-9959-6d2502f24277",
        "colab": {
          "base_uri": "https://localhost:8080/",
          "height": 87
        }
      },
      "source": [
        "# from pyspark.ml.evaluation import RegressionEvaluator\n",
        "reval = RegressionEvaluator(labelCol=\"medv\", predictionCol=\"prediction\", metricName=\"rmse\")\n",
        "# Root Mean Square Error\n",
        "rmse = reval.evaluate(pred_pca.predictions)\n",
        "print(\"RMSE: %.3f\" % rmse)\n",
        "# Mean Square Error\n",
        "mse = reval.evaluate(pred_pca.predictions, {reval.metricName: \"mse\"})\n",
        "print(\"MSE: %.3f\" % mse)\n",
        "# Mean Absolute Error\n",
        "mae = reval.evaluate(pred_pca.predictions, {reval.metricName: \"mae\"})\n",
        "print(\"MAE: %.3f\" % mae)\n",
        "# r2 - coefficient of determination\n",
        "r2 = reval.evaluate(pred_pca.predictions, {reval.metricName: \"r2\"})\n",
        "print(\"r2: %.3f\" %r2)"
      ],
      "execution_count": 0,
      "outputs": [
        {
          "output_type": "stream",
          "text": [
            "RMSE: 6.045\n",
            "MSE: 36.541\n",
            "MAE: 4.459\n",
            "r2: 0.595\n"
          ],
          "name": "stdout"
        }
      ]
    },
    {
      "cell_type": "markdown",
      "metadata": {
        "id": "dZy0sCYc-56L",
        "colab_type": "text"
      },
      "source": [
        "RegressionEvaluator:\n",
        "\n",
        "*   RMSE: 5.504\n",
        "*   MSE: 30.298\n",
        "*   MAE: 3.512\n",
        "*   r2: 0.629"
      ]
    },
    {
      "cell_type": "code",
      "metadata": {
        "id": "kRmTN7ot-5im",
        "colab_type": "code",
        "colab": {}
      },
      "source": [
        ""
      ],
      "execution_count": 0,
      "outputs": []
    },
    {
      "cell_type": "markdown",
      "metadata": {
        "id": "m8VI4Cy-wulv",
        "colab_type": "text"
      },
      "source": [
        "## Visualization"
      ]
    },
    {
      "cell_type": "code",
      "metadata": {
        "id": "Yk4-ytjVNOQf",
        "colab_type": "code",
        "colab": {}
      },
      "source": [
        "import pandas as pd\n",
        "df = pd.read_csv(\"BostonHousing.csv\")\n",
        "df.head()"
      ],
      "execution_count": 0,
      "outputs": []
    },
    {
      "cell_type": "code",
      "metadata": {
        "id": "gfCuZEtgS3Th",
        "colab_type": "code",
        "colab": {}
      },
      "source": [
        "import seaborn as sns\n",
        "sns.set(style=\"ticks\")\n",
        "\n",
        "sns.pairplot(df)"
      ],
      "execution_count": 0,
      "outputs": []
    },
    {
      "cell_type": "code",
      "metadata": {
        "id": "RDVUPzS21XLl",
        "colab_type": "code",
        "colab": {}
      },
      "source": [
        "sns.set(style=\"ticks\")\n",
        "df_pca = finalized_data_pca.toPandas()\n",
        "# sns.pairplot(df_pca)\n",
        "# df_pca_col = pd.DataFrame(df_pca.pcaFeatures.tolist(), columns=['pca1', 'pca2', 'pca3'])\n",
        "\n",
        "# df_pca.pcaFeatures.tolist()"
      ],
      "execution_count": 0,
      "outputs": []
    },
    {
      "cell_type": "code",
      "metadata": {
        "id": "LCC-5WDE36fe",
        "colab_type": "code",
        "colab": {}
      },
      "source": [
        "df_pca['pcaFeatures'].values.tolist()"
      ],
      "execution_count": 0,
      "outputs": []
    }
  ]
}